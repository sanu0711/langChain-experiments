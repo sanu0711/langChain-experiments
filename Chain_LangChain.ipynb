{
  "nbformat": 4,
  "nbformat_minor": 0,
  "metadata": {
    "colab": {
      "provenance": [],
      "toc_visible": true,
      "authorship_tag": "ABX9TyP0VuZUUPkX9Vv+pVkUAg+C",
      "include_colab_link": true
    },
    "kernelspec": {
      "name": "python3",
      "display_name": "Python 3"
    },
    "language_info": {
      "name": "python"
    }
  },
  "cells": [
    {
      "cell_type": "markdown",
      "metadata": {
        "id": "view-in-github",
        "colab_type": "text"
      },
      "source": [
        "<a href=\"https://colab.research.google.com/github/sanu0711/langChain-experiments/blob/main/Chain_LangChain.ipynb\" target=\"_parent\"><img src=\"https://colab.research.google.com/assets/colab-badge.svg\" alt=\"Open In Colab\"/></a>"
      ]
    },
    {
      "cell_type": "markdown",
      "source": [
        "# 📌 Summary: Choosing the Right Chain\n"
      ],
      "metadata": {
        "id": "wLOICRY7mLuo"
      }
    },
    {
      "cell_type": "code",
      "source": [
        "!pip install -qU langchain-openai"
      ],
      "metadata": {
        "id": "xCJKBpqsnWeH"
      },
      "execution_count": null,
      "outputs": []
    },
    {
      "cell_type": "markdown",
      "source": [
        "# LLMChain (Basic Single-Step Chain) (Stop support on wards need to use pipe insted)\n",
        "🔹 When to Use:\n",
        "\n",
        "* When you only need a simple prompt and response.\n",
        "\n",
        "* Ideal for text generation, translations, and question answering."
      ],
      "metadata": {
        "id": "fTQBf0pKmxTv"
      }
    },
    {
      "cell_type": "code",
      "source": [
        "from langchain.chains import LLMChain\n",
        "from langchain_openai import ChatOpenAI\n",
        "from langchain.prompts import PromptTemplate\n",
        "from google.colab import userdata\n",
        "\n",
        "llm = ChatOpenAI(\n",
        "    api_key = userdata.get('OPENAI_API_KEY'),\n",
        "    model=\"gpt-4o\",\n",
        "    # temperature=0, # temperature controls the randomness of the output\n",
        "    # max_tokens=None, # max_tokens controls the maximum number of tokens in the output\n",
        "    # timeout=None, # timeout controls the maximum time to wait for the API to respond\n",
        "    # max_retries=2,  # max_retries controls the maximum number of retries to attempt if the API fails\n",
        "    #base_url=\"...\", # base_url is the base URL for the OpenAI API\n",
        ")\n",
        "prompt = PromptTemplate.from_template(\"What is the best name for a company that sells {product}?\")\n",
        "\n",
        "\n",
        "\n",
        "\n",
        "chain = LLMChain(\n",
        "    llm=llm, # llm is an LLM object\n",
        "    prompt=prompt, # prompt is a PromptTemplate\n",
        "    verbose=True, # verbose is a boolean that controls whether to print the prompt\n",
        "    output_key=\"company_name\", # output_key is a string that controls the output key\n",
        "    # stop=[\"\\n\"], # stop is a list of strings that controls when to stop\n",
        "\n",
        "    )\n",
        "# response = chain.run(\"organic skincare\")\n",
        "response = chain.invoke({\"product\": \"organic skincare\"})\n",
        "response\n",
        "\n",
        "\n",
        "\n",
        "# chain = prompt | llm\n",
        "# response = chain.invoke({\"product\": \"organic skincare\"})\n",
        "# response"
      ],
      "metadata": {
        "colab": {
          "base_uri": "https://localhost:8080/"
        },
        "id": "PDpVw35wmw43",
        "outputId": "33d4650f-cb39-4788-ce56-5cb6f0ab6470"
      },
      "execution_count": null,
      "outputs": [
        {
          "output_type": "stream",
          "name": "stdout",
          "text": [
            "\n",
            "\n",
            "\u001b[1m> Entering new LLMChain chain...\u001b[0m\n",
            "Prompt after formatting:\n",
            "\u001b[32;1m\u001b[1;3mWhat is the best name for a company that sells organic skincare?\u001b[0m\n",
            "\n",
            "\u001b[1m> Finished chain.\u001b[0m\n"
          ]
        },
        {
          "output_type": "execute_result",
          "data": {
            "text/plain": [
              "{'product': 'organic skincare',\n",
              " 'company_name': \"Choosing the best name for your organic skincare company involves capturing the essence of your brand, resonating with your target audience, and setting yourself apart from competitors. Here are a few suggestions:\\n\\n1. **PureEssence Naturals**\\n2. **EcoGlow Skincare**\\n3. **GreenGoddess Beauty**\\n4. **NatureNurture Organics**\\n5. **Earthly Elixirs**\\n6. **FreshAura Botanicals**\\n7. **WildBloom Skincare**\\n8. **RadiantRoots Organics**\\n9. **OrganicOasis Beauty**\\n10. **VerdantVibe Naturals**\\n\\nWhen selecting a name, ensure it is available as a domain name and isn't trademarked by another company. It's also beneficial to test it with potential customers to gauge their reaction.\"}"
            ]
          },
          "metadata": {},
          "execution_count": 33
        }
      ]
    },
    {
      "cell_type": "markdown",
      "source": [
        "# SimpleSequentialChain (Basic Step-by-Step Execution)\n",
        "🔹 When to Use:\n",
        "\n",
        "* When one chain’s output is needed as input for the next.\n",
        "\n",
        "* Example: Generating a blog post **title → summary → keywords.**\n",
        "\n",
        "* **Not Returns Intermediate Steps**"
      ],
      "metadata": {
        "id": "SgEPOYOOrUln"
      }
    },
    {
      "cell_type": "code",
      "source": [
        "from langchain.chains import SimpleSequentialChain, LLMChain\n",
        "from langchain_openai import ChatOpenAI\n",
        "from langchain.prompts import PromptTemplate\n",
        "\n",
        "\n",
        "# First Chain: Generate a product name\n",
        "first_chain = LLMChain(\n",
        "    llm=llm,\n",
        "    prompt=PromptTemplate.from_template(\"Suggest a product name for {category}.\"),\n",
        ")\n",
        "\n",
        "# Second Chain: Describe the generated product name\n",
        "second_chain = LLMChain(\n",
        "    llm=llm,\n",
        "    prompt=PromptTemplate.from_template(\"Describe the product {product_name}.\"),\n",
        ")\n",
        "\n",
        "# Simple Sequential Chain\n",
        "chain = SimpleSequentialChain(\n",
        "    chains=[first_chain, second_chain]\n",
        ")\n",
        "\n",
        "# Invoke Chain\n",
        "response = chain.invoke(\"organic skincare\")\n",
        "print(response)\n"
      ],
      "metadata": {
        "colab": {
          "base_uri": "https://localhost:8080/"
        },
        "id": "vSsOFTETmtHK",
        "outputId": "2d881c47-4eee-4001-8878-06164f6c0d9b"
      },
      "execution_count": null,
      "outputs": [
        {
          "output_type": "stream",
          "name": "stdout",
          "text": [
            "{'input': 'organic skincare', 'output': '\"PureGlow Naturals\" is likely a product line focused on providing natural and organic skincare and beauty solutions. Such a brand usually emphasizes the use of high-quality, all-natural ingredients that aim to enhance skin health and appearance without the use of harsh chemicals, synthetic fragrances, or artificial additives. Products from PureGlow Naturals might include items such as facial cleansers, moisturizers, serums, and masks, formulated with plant-based ingredients, essential oils, and botanical extracts known for their nourishing and healing properties. This brand may appeal to consumers looking for clean beauty options that are environmentally sustainable and cruelty-free. However, without specific information or context, the details about this particular product line might vary.'}\n"
          ]
        }
      ]
    },
    {
      "cell_type": "markdown",
      "source": [
        "# SequentialChain (Advanced Multi-Step Execution)\n",
        "\n",
        "🔹 When to Use:\n",
        "\n",
        "* When multiple inputs/outputs are required.\n",
        "\n",
        "* Example: Generating summary, tweet, and email text from an article.\n",
        "\n",
        "* **Returns Intermediate Steps**"
      ],
      "metadata": {
        "id": "1cJ-fpx11lYZ"
      }
    },
    {
      "cell_type": "code",
      "execution_count": null,
      "metadata": {
        "id": "f3NJ6eDEKBCj",
        "colab": {
          "base_uri": "https://localhost:8080/"
        },
        "outputId": "194cdb7f-1521-4c6f-d0f7-7335e8266c32"
      },
      "outputs": [
        {
          "output_type": "execute_result",
          "data": {
            "text/plain": [
              "{'category': 'organic skincare',\n",
              " 'product_name': '\"PureEarth Essentials\"',\n",
              " 'description': 'As of my last update, there isn\\'t a specific product known as \"PureEarth Essentials\" that I can provide details about. However, based on the name, it might refer to a brand or product line focused on eco-friendly or natural goods. Typically, these kinds of products could include items like organic skincare, household products, or sustainable lifestyle goods. If \"PureEarth Essentials\" has been released or gained recognition after my last update, I recommend checking the company\\'s website or recent product listings for accurate and up-to-date information.'}"
            ]
          },
          "metadata": {},
          "execution_count": 37
        }
      ],
      "source": [
        "from langchain.chains import SequentialChain, LLMChain\n",
        "from langchain_openai import ChatOpenAI\n",
        "from langchain.prompts import PromptTemplate\n",
        "\n",
        "\n",
        "\n",
        "# First Chain: Generate a product name\n",
        "first_chain = LLMChain(\n",
        "    llm=llm,\n",
        "    prompt=PromptTemplate.from_template(\"Suggest a product name for {category}.\"),\n",
        "    output_key=\"product_name\",  # Store output as \"product_name\"\n",
        ")\n",
        "\n",
        "# Second Chain: Describe the generated product name\n",
        "second_chain = LLMChain(\n",
        "    llm=llm,\n",
        "    prompt=PromptTemplate.from_template(\"Describe the product {product_name}.\"),\n",
        "    output_key=\"description\",  # Store output as \"description\"\n",
        ")\n",
        "\n",
        "# Creating a SequentialChain\n",
        "chain = SequentialChain(\n",
        "    chains=[first_chain, second_chain],  # Run chains in order\n",
        "    input_variables=[\"category\"],  # Initial input\n",
        "    output_variables=[\"product_name\", \"description\"],  # Final outputs\n",
        "    return_all=True  # ✅ This returns intermediate steps\n",
        ")\n",
        "\n",
        "# Invoke Chain\n",
        "response = chain.invoke({\"category\": \"organic skincare\"})\n",
        "response\n"
      ]
    },
    {
      "cell_type": "markdown",
      "source": [
        "# Router Chains (Dynamic Routing for Complex Workflows)\n",
        "\n",
        "Router Chains allow dynamic selection of chains or LLM prompts based on user input. Instead of a single static chain, Router Chains intelligently route inputs to different specialized chains.\n",
        "\n",
        "✅ Better Handling of Diverse Inputs → Different questions get routed to different models/prompts.\n",
        "\n",
        "✅ Efficient Resource Usage → Uses the right model for the right task.\n",
        "\n",
        "✅ Scalability → Easily extendable to multiple chains."
      ],
      "metadata": {
        "id": "x3yEnrSwDfJz"
      }
    },
    {
      "cell_type": "markdown",
      "source": [
        "## LLM Router Chain (MultiRouteChain)\n",
        "\n",
        "* Uses an LLM to decide which chain to route to.\n",
        "\n",
        "* Example: Directs math-related queries to a calculator and text-based queries to GPT."
      ],
      "metadata": {
        "id": "jIvSAhVGD277"
      }
    },
    {
      "cell_type": "code",
      "source": [],
      "metadata": {
        "id": "5BUDFMWXEWwc"
      },
      "execution_count": null,
      "outputs": []
    },
    {
      "cell_type": "markdown",
      "source": [
        "## MultiPromptChain\n",
        "\n",
        "* Routes user input to different prompt templates.\n",
        "\n",
        "* Example: Routes translation queries to a translator prompt and summarization queries to a summarization prompt."
      ],
      "metadata": {
        "id": "b3xIUUk9EEBb"
      }
    },
    {
      "cell_type": "code",
      "source": [],
      "metadata": {
        "id": "NXWT0bmqEXp7"
      },
      "execution_count": null,
      "outputs": []
    },
    {
      "cell_type": "markdown",
      "source": [
        "# Custom Python Functions (✅ Ultimate Flexibility) -- > RunnableLambda\n",
        "\n",
        "* Best for: Mixing sequential and parallel chains, adding if-else conditions, or looping."
      ],
      "metadata": {
        "id": "-9aW5_F_6g6J"
      }
    },
    {
      "cell_type": "code",
      "source": [
        "from langchain.schema.runnable import RunnableLambda\n",
        "from langchain_openai import ChatOpenAI\n",
        "from langchain.prompts import PromptTemplate\n",
        "from langchain.chains import LLMChain\n",
        "\n",
        "\n",
        "# Define a custom function\n",
        "\n",
        "\n",
        "first_chain = LLMChain(\n",
        "    llm=llm,\n",
        "    prompt=PromptTemplate.from_template(\"Suggest a product name for {category}.\"),\n",
        "    output_key=\"product_name\",\n",
        ")\n",
        "\n",
        "second_chain = LLMChain(\n",
        "    llm=llm,\n",
        "    prompt=PromptTemplate.from_template(\"Describe the product {product_name}.\"),\n",
        "    output_key=\"description\",\n",
        ")\n",
        "\n",
        "# Custom logic to format output\n",
        "def combine_outputs(inputs):\n",
        "    return {\n",
        "        \"summary\": f\"{inputs['product_name']} is a great product. {inputs['description']}\",\n",
        "        \"detailed_output\": inputs\n",
        "    }\n",
        "\n",
        "combine_chain = RunnableLambda(combine_outputs) # make function runnable in langchain\n",
        "\n",
        "# Final runnable sequence\n",
        "chain = first_chain | second_chain | combine_chain\n",
        "\n",
        "chain.invoke({\"category\": \"organic skincare\"})\n",
        "\n"
      ],
      "metadata": {
        "colab": {
          "base_uri": "https://localhost:8080/"
        },
        "id": "6KBtTD2L6fWD",
        "outputId": "1a1f1858-70cf-455a-c969-c45ae8cdecf9"
      },
      "execution_count": null,
      "outputs": [
        {
          "output_type": "execute_result",
          "data": {
            "text/plain": [
              "{'summary': '\"Ethereal Glow Organics\" is a great product. \"Ethereal Glow Organics\" sounds like a brand or product line that focuses on organic skincare or beauty products. While I don\\'t have specific information about this product, based on the name, it likely emphasizes natural and organic ingredients aimed at enhancing skin\\'s natural radiance and health. Such products often include elements like plant-based extracts, essential oils, or other organic components designed to nourish, hydrate, and rejuvenate the skin. If it\\'s part of a larger lineup, the brand might pride itself on sustainable practices, eco-friendly packaging, and a commitment to clean beauty standards. If you’re interested in specifics, I recommend checking the brand\\'s official website or product descriptions for more detailed information.',\n",
              " 'detailed_output': {'category': 'organic skincare',\n",
              "  'product_name': '\"Ethereal Glow Organics\"',\n",
              "  'description': '\"Ethereal Glow Organics\" sounds like a brand or product line that focuses on organic skincare or beauty products. While I don\\'t have specific information about this product, based on the name, it likely emphasizes natural and organic ingredients aimed at enhancing skin\\'s natural radiance and health. Such products often include elements like plant-based extracts, essential oils, or other organic components designed to nourish, hydrate, and rejuvenate the skin. If it\\'s part of a larger lineup, the brand might pride itself on sustainable practices, eco-friendly packaging, and a commitment to clean beauty standards. If you’re interested in specifics, I recommend checking the brand\\'s official website or product descriptions for more detailed information.'}}"
            ]
          },
          "metadata": {},
          "execution_count": 39
        }
      ]
    },
    {
      "cell_type": "markdown",
      "source": [
        "# RunnableParallel (Parallel Execution for Faster Performance)\n",
        "\n",
        "* ✅ When multiple tasks do not depend on each other’s output.\n",
        "\n",
        "* ✅ To speed up execution by running independent tasks at the same time.\n",
        "\n",
        "* ✅ To combine multiple outputs in a single response."
      ],
      "metadata": {
        "id": "Bmfxq3mq8PKq"
      }
    },
    {
      "cell_type": "code",
      "source": [
        "from langchain.schema.runnable import RunnableParallel\n",
        "from langchain_openai import ChatOpenAI\n",
        "from langchain.prompts import PromptTemplate\n",
        "from langchain.chains import LLMChain\n",
        "\n",
        "\n",
        "# Define independent chains\n",
        "product_name_chain = LLMChain(\n",
        "    llm=llm,\n",
        "    prompt=PromptTemplate.from_template(\"Suggest a brand name for {category}.\"),\n",
        "    output_key=\"product_name\",\n",
        ")\n",
        "\n",
        "tagline_chain = LLMChain(\n",
        "    llm=llm,\n",
        "    prompt=PromptTemplate.from_template(\"Write a catchy tagline for a {category} brand.\"),\n",
        "    output_key=\"tagline\",\n",
        ")\n",
        "\n",
        "social_media_chain = LLMChain(\n",
        "    llm=llm,\n",
        "    prompt=PromptTemplate.from_template(\"Write a Twitter post for {category} brand.\"),\n",
        "    output_key=\"social_post\",\n",
        ")\n",
        "\n",
        "# Run all chains in parallel\n",
        "parallel_chain = RunnableParallel(\n",
        "    product_name=product_name_chain,\n",
        "    tagline=tagline_chain,\n",
        "    social_post=social_media_chain,\n",
        ")\n",
        "\n",
        "parallel_chain.invoke({\"category\": \"organic skincare\"})\n",
        "\n"
      ],
      "metadata": {
        "colab": {
          "base_uri": "https://localhost:8080/"
        },
        "id": "S2CDEUGl8PiR",
        "outputId": "9e6f03c1-1a4e-4a98-e2d4-cfa61ecd9afb"
      },
      "execution_count": null,
      "outputs": [
        {
          "output_type": "execute_result",
          "data": {
            "text/plain": [
              "{'product_name': {'category': 'organic skincare',\n",
              "  'product_name': \"Creating a brand name for an organic skincare line involves conveying purity, nature, and wellness. Here are a few suggestions:\\n\\n1. PurePetal\\n2. EarthEssence\\n3. GaiaGlow\\n4. NatureNurture\\n5. GreenGlimmer\\n6. EcoElixir\\n7. VitalVerde\\n8. BloomBare\\n9. OrganicOra\\n10. FloraFusion\\n\\nIt's important to ensure that the name aligns with your brand values and is unique in the skincare market.\"},\n",
              " 'tagline': {'category': 'organic skincare',\n",
              "  'tagline': '\"Nature\\'s Glow, Purely You.\"'},\n",
              " 'social_post': {'category': 'organic skincare',\n",
              "  'social_post': '🌿✨ Embrace the beauty of nature with our all-natural, organic skincare line! Treat your skin to the purest ingredients, responsibly sourced and cruelty-free. Glow from the inside out with the power of nature! 💚 #OrganicBeauty #NaturalGlow #CrueltyFree #EcoFriendlySkincare 🌱💧'}}"
            ]
          },
          "metadata": {},
          "execution_count": 42
        }
      ]
    },
    {
      "cell_type": "markdown",
      "source": [
        "# RunnableMap (Batch Processing on Multiple Inputs)\n",
        "\n",
        "RunnableMap is used to process multiple inputs independently and return a dictionary of results. It is similar to RunnableParallel, but instead of executing everything together, each function gets its own specific input.\n",
        "\n",
        "🔹 When to Use RunnableMap?\n",
        "\n",
        "✅ When different tasks need different inputs.\n",
        "\n",
        "✅ When you need to map multiple inputs to multiple outputs.\n",
        "\n",
        "✅ When you want to structure results in a dictionary format."
      ],
      "metadata": {
        "id": "IFdOwVfP9wKK"
      }
    },
    {
      "cell_type": "code",
      "source": [
        "from langchain.schema.runnable import RunnableMap\n",
        "from langchain_openai import ChatOpenAI\n",
        "from langchain.prompts import PromptTemplate\n",
        "from langchain.chains import LLMChain\n",
        "\n",
        "\n",
        "# Define individual chains with different inputs\n",
        "product_name_chain = LLMChain(\n",
        "    llm=llm,\n",
        "    prompt=PromptTemplate.from_template(\"Suggest a brand name for {category}.\"),\n",
        "    output_key=\"product_name\",\n",
        ")\n",
        "\n",
        "description_chain = LLMChain(\n",
        "    llm=llm,\n",
        "    prompt=PromptTemplate.from_template(\"Describe the product {product_name}.\"),\n",
        "    output_key=\"description\",\n",
        ")\n",
        "\n",
        "tagline_chain = LLMChain(\n",
        "    llm=llm,\n",
        "    prompt=PromptTemplate.from_template(\"Write a catchy tagline for a {category} brand.\"),\n",
        "    output_key=\"tagline\",\n",
        ")\n",
        "\n",
        "# RunnableMap to execute all chains independently with specific inputs\n",
        "map_chain = RunnableMap({\n",
        "    \"product_name\": product_name_chain,   # Takes category as input\n",
        "    \"description\": description_chain,     # Takes product_name as input\n",
        "    \"tagline\": tagline_chain              # Takes category as input\n",
        "})\n",
        "\n",
        "map_chain.invoke({\n",
        "    \"category\": \"organic skincare\",\n",
        "    \"product_name\": \"GlowNaturals\"\n",
        "})\n",
        "\n",
        "\n"
      ],
      "metadata": {
        "colab": {
          "base_uri": "https://localhost:8080/"
        },
        "id": "w6bALdUt9_U6",
        "outputId": "0f2e66aa-fa44-465b-baf8-9c075c139775"
      },
      "execution_count": null,
      "outputs": [
        {
          "output_type": "execute_result",
          "data": {
            "text/plain": [
              "{'product_name': {'category': 'organic skincare',\n",
              "  'product_name': 'Certainly! Here are a few suggestions for an organic skincare brand name:\\n\\n1. **PureSerene**\\n2. **EcoGlow**\\n3. **NaturaLuxe**\\n4. **VerdantVisage**\\n5. **BotanikEssence**\\n6. **GreenAura**\\n7. **OrganicaRadiance**\\n8. **EarthElixir**\\n9. **HerbaHarmony**\\n10. **GaiaGlow**\\n\\nMake sure to check for trademark availability and domain accessibility if you decide to use one of these names.'},\n",
              " 'description': {'category': 'organic skincare',\n",
              "  'product_name': 'GlowNaturals',\n",
              "  'description': \"I'm sorry, but as of my last update in October 2023, I don't have specific information about a product called GlowNaturals. It's possible that it could be a niche or recent product not widely documented in my sources. If you can provide more detailed information about the product, such as its category (skincare, supplements, etc.) or its main features, I might be able to help more effectively. Alternatively, you could check the manufacturer's website or other online resources for the most up-to-date information.\"},\n",
              " 'tagline': {'category': 'organic skincare',\n",
              "  'product_name': 'GlowNaturals',\n",
              "  'tagline': '\"Nature’s Glow, Your Skin’s Promise.\"'}}"
            ]
          },
          "metadata": {},
          "execution_count": 44
        }
      ]
    },
    {
      "cell_type": "markdown",
      "source": [
        "# 🚀 ConversationalRetrievalChain: Chatbots with Memory + Retrieval\n",
        "\n",
        "ConversationalRetrievalChain is a specialized chain in LangChain that enables chatbots to remember previous interactions while retrieving relevant documents from a vector database (like FAISS, Chroma, Pinecone, etc.).\n",
        "\n",
        " **Why Use ConversationalRetrievalChain?**\n",
        "\n",
        "✅ Memory: Keeps track of past conversations, allowing the chatbot to maintain context.\n",
        "\n",
        "✅ Retrieval: Fetches relevant information from stored documents using a retriever (like vector databases).\n",
        "\n",
        "✅ Conversational AI: Ideal for chatbots, customer support, and knowledge-based Q&A systems."
      ],
      "metadata": {
        "id": "cEklnqqxAb4a"
      }
    },
    {
      "cell_type": "markdown",
      "source": [
        "# Parsers in LangChain"
      ],
      "metadata": {
        "id": "EenZuCpCO4v0"
      }
    },
    {
      "cell_type": "markdown",
      "source": [
        "## 1. PydanticOutputParser (Most Common for Structured Data)\n",
        "\n",
        "Best for: Structured output with validation.\n",
        "\n",
        "Why? Ensures correct data types and validation using Pydantic models.\n",
        "\n",
        "Common Use Cases: Financial models, AI assistants, database interactions."
      ],
      "metadata": {
        "id": "Y7-_ySyfPB3s"
      }
    },
    {
      "cell_type": "code",
      "source": [
        "from langchain.output_parsers import PydanticOutputParser\n",
        "from pydantic import BaseModel, Field\n",
        "\n",
        "# Define a structured output model\n",
        "class InvestmentPlan(BaseModel):\n",
        "    risk_level: str = Field(..., description=\"Risk tolerance level\")\n",
        "    suggested_assets: list[str] = Field(..., description=\"Recommended investment assets\")\n",
        "\n",
        "# Create the parser\n",
        "parser = PydanticOutputParser(pydantic_object=InvestmentPlan)\n",
        "\n",
        "# Format instructions to guide the LLM\n",
        "\n",
        "formatted_instructions = parser.get_format_instructions()\n",
        "\n",
        "\n",
        "print(formatted_instructions)\n"
      ],
      "metadata": {
        "colab": {
          "base_uri": "https://localhost:8080/"
        },
        "id": "wAGVTAPG-olS",
        "outputId": "71938213-b855-43c0-cc04-4227ee866fa5"
      },
      "execution_count": null,
      "outputs": [
        {
          "output_type": "stream",
          "name": "stdout",
          "text": [
            "The output should be formatted as a JSON instance that conforms to the JSON schema below.\n",
            "\n",
            "As an example, for the schema {\"properties\": {\"foo\": {\"title\": \"Foo\", \"description\": \"a list of strings\", \"type\": \"array\", \"items\": {\"type\": \"string\"}}}, \"required\": [\"foo\"]}\n",
            "the object {\"foo\": [\"bar\", \"baz\"]} is a well-formatted instance of the schema. The object {\"properties\": {\"foo\": [\"bar\", \"baz\"]}} is not well-formatted.\n",
            "\n",
            "Here is the output schema:\n",
            "```\n",
            "{\"properties\": {\"risk_level\": {\"description\": \"Risk tolerance level\", \"title\": \"Risk Level\", \"type\": \"string\"}, \"suggested_assets\": {\"description\": \"Recommended investment assets\", \"items\": {\"type\": \"string\"}, \"title\": \"Suggested Assets\", \"type\": \"array\"}}, \"required\": [\"risk_level\", \"suggested_assets\"]}\n",
            "```\n"
          ]
        }
      ]
    },
    {
      "cell_type": "markdown",
      "source": [
        "## 2. StructuredOutputParser (Common for Enforcing Formats)\n",
        "\n",
        "Best for: Ensuring a consistent output structure.\n",
        "\n",
        "Why? Useful when working with multiple LLM responses that must have the same format."
      ],
      "metadata": {
        "id": "dNyCYs5VP1-k"
      }
    },
    {
      "cell_type": "code",
      "source": [
        "from langchain.output_parsers import StructuredOutputParser\n",
        "from langchain.prompts import PromptTemplate\n",
        "\n",
        "# Define a format template\n",
        "format_template = StructuredOutputParser.from_response_schemas([\n",
        "    {\"name\": \"name\", \"description\": \"The name of the user\"},\n",
        "    {\"name\": \"age\", \"description\": \"The age of the user\"}\n",
        "])\n",
        "\n",
        "# Get formatting instructions\n",
        "format_instructions = format_template.get_format_instructions()\n",
        "print(format_instructions)\n"
      ],
      "metadata": {
        "colab": {
          "base_uri": "https://localhost:8080/"
        },
        "id": "LJVmofrAP5Q0",
        "outputId": "49a1a2cb-f139-44d4-a61b-deed4ad0ec14"
      },
      "execution_count": null,
      "outputs": [
        {
          "output_type": "stream",
          "name": "stdout",
          "text": [
            "The output should be a markdown code snippet formatted in the following schema, including the leading and trailing \"```json\" and \"```\":\n",
            "\n",
            "```json\n",
            "{\n",
            "\t\"name\": string  // The name of the user\n",
            "\t\"age\": string  // The age of the user\n",
            "}\n",
            "```\n"
          ]
        }
      ]
    }
  ]
}