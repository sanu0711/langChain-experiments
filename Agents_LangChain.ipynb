{
  "nbformat": 4,
  "nbformat_minor": 0,
  "metadata": {
    "colab": {
      "provenance": [],
      "authorship_tag": "ABX9TyNoKOUcOHRoh4DgHrejzKQ2",
      "include_colab_link": true
    },
    "kernelspec": {
      "name": "python3",
      "display_name": "Python 3"
    },
    "language_info": {
      "name": "python"
    }
  },
  "cells": [
    {
      "cell_type": "markdown",
      "metadata": {
        "id": "view-in-github",
        "colab_type": "text"
      },
      "source": [
        "<a href=\"https://colab.research.google.com/github/sanu0711/langChain-experiments/blob/main/Agents_LangChain.ipynb\" target=\"_parent\"><img src=\"https://colab.research.google.com/assets/colab-badge.svg\" alt=\"Open In Colab\"/></a>"
      ]
    },
    {
      "cell_type": "markdown",
      "source": [
        "What Are Agents in LangChain?\n",
        "\n",
        "An agent is an intelligent system that dynamically decides what actions to take based on user input and external tools. Instead of following a predefined flow, an agent can:\n",
        "\n",
        "Reason about what action to take.\n",
        "\n",
        "Choose the right tool (search, calculation, database lookup, etc.).\n",
        "\n",
        "Execute the action and process results.\n",
        "\n",
        "Iterate if needed (multi-step reasoning)."
      ],
      "metadata": {
        "id": "E4Z4cF1VaGR8"
      }
    },
    {
      "cell_type": "code",
      "execution_count": null,
      "metadata": {
        "id": "LSj2zPwKKVZd"
      },
      "outputs": [],
      "source": [
        "!pip install -qU langchain-openai langchain"
      ]
    },
    {
      "cell_type": "markdown",
      "source": [
        "# Simple LangChain Agent"
      ],
      "metadata": {
        "id": "NVwo_17CaXu8"
      }
    },
    {
      "cell_type": "code",
      "source": [
        "from langchain.chains import LLMChain\n",
        "from langchain_openai import ChatOpenAI\n",
        "from langchain.prompts import PromptTemplate\n",
        "from google.colab import userdata\n",
        "\n",
        "llm = ChatOpenAI(\n",
        "    api_key = userdata.get('OPENAI_API_KEY'),\n",
        "    model=\"gpt-4o\",\n",
        "    # temperature=0, # temperature controls the randomness of the output\n",
        "    # max_tokens=None, # max_tokens controls the maximum number of tokens in the output\n",
        "    # timeout=None, # timeout controls the maximum time to wait for the API to respond\n",
        "    # max_retries=2,  # max_retries controls the maximum number of retries to attempt if the API fails\n",
        "    #base_url=\"...\", # base_url is the base URL for the OpenAI API\n",
        ")\n"
      ],
      "metadata": {
        "id": "bBvkB_-0abh7"
      },
      "execution_count": null,
      "outputs": []
    },
    {
      "cell_type": "code",
      "source": [
        "from langchain.agents import initialize_agent, AgentType\n",
        "from langchain.tools import Tool\n",
        "\n",
        "def square_number(n: str):\n",
        "    \"\"\"Squares a number\"\"\"\n",
        "    return int(n) ** 2\n",
        "\n",
        "math_tool = Tool(\n",
        "    name=\"SquareTool\",\n",
        "    func=square_number,\n",
        "    description=\"Calculates the square of a number. Input should be an integer.\"\n",
        ")\n",
        "\n",
        "agent = initialize_agent(\n",
        "    tools=[math_tool],  # Adding our custom tool\n",
        "    llm=llm,\n",
        "    agent=AgentType.ZERO_SHOT_REACT_DESCRIPTION,  # This agent reasons before acting\n",
        "    verbose=True  # Enables detailed logs\n",
        ")\n",
        "\n",
        "response = agent.run(\"What is the square of 4?\")\n",
        "print(response)"
      ],
      "metadata": {
        "colab": {
          "base_uri": "https://localhost:8080/"
        },
        "id": "Wa__4khMafWr",
        "outputId": "87b94269-7b2e-4940-9c39-5cfb406d12b4"
      },
      "execution_count": null,
      "outputs": [
        {
          "output_type": "stream",
          "name": "stdout",
          "text": [
            "\n",
            "\n",
            "\u001b[1m> Entering new AgentExecutor chain...\u001b[0m\n",
            "\u001b[32;1m\u001b[1;3mTo find the square of 4, I need to calculate 4 times 4.\n",
            "\n",
            "Action: SquareTool\n",
            "Action Input: 4\u001b[0m\n",
            "Observation: \u001b[36;1m\u001b[1;3m16\u001b[0m\n",
            "Thought:\u001b[32;1m\u001b[1;3mI now know the final answer.\n",
            "Final Answer: The square of 4 is 16.\u001b[0m\n",
            "\n",
            "\u001b[1m> Finished chain.\u001b[0m\n",
            "The square of 4 is 16.\n"
          ]
        }
      ]
    },
    {
      "cell_type": "code",
      "source": [
        "from langchain.agents import initialize_agent, AgentType\n",
        "from langchain.tools import Tool\n",
        "import random\n",
        "\n",
        "# Define the get_weather function as before\n",
        "def get_weather(city: str) -> str:\n",
        "    \"\"\"Returns a fake weather report for a given city.\"\"\"\n",
        "    weather_conditions = [\"Sunny\", \"Cloudy\", \"Rainy\", \"Stormy\"]\n",
        "    temperature = random.randint(15, 35)\n",
        "    return f\"The weather in {city} is {random.choice(weather_conditions)} with {temperature}°C.\"\n",
        "\n",
        "# Create the get_weather tool using the Tool class directly\n",
        "weather_tool = Tool(\n",
        "    name=\"GetWeatherTool\",\n",
        "    func=get_weather,\n",
        "    description=\"Gets the weather in a given city.\",\n",
        "    args_schema=None  # Removing args_schema for a simple tool\n",
        ")\n",
        "\n",
        "# Initialize the agent with both tools\n",
        "agent = initialize_agent(\n",
        "    tools=[math_tool, weather_tool],\n",
        "    llm=llm,\n",
        "    agent=AgentType.ZERO_SHOT_REACT_DESCRIPTION, # This agent reasons before acting\n",
        "    verbose=True\n",
        ")\n",
        "\n",
        "# Run the agent\n",
        "response = agent.run(\"What is the square of 4?? Also, how is the weather in Mumbai?\")\n",
        "print(response)"
      ],
      "metadata": {
        "colab": {
          "base_uri": "https://localhost:8080/"
        },
        "id": "j5JnOfq3csls",
        "outputId": "073c2a0d-396c-4293-d04d-623e2ca7df3c"
      },
      "execution_count": null,
      "outputs": [
        {
          "output_type": "stream",
          "name": "stdout",
          "text": [
            "\n",
            "\n",
            "\u001b[1m> Entering new AgentExecutor chain...\u001b[0m\n",
            "\u001b[32;1m\u001b[1;3mI need to answer two questions: calculate the square of 4 and find out the current weather in Mumbai. I'll start with calculating the square of 4.\n",
            "\n",
            "Action: SquareTool\n",
            "Action Input: 4\u001b[0m\n",
            "Observation: \u001b[36;1m\u001b[1;3m16\u001b[0m\n",
            "Thought:\u001b[32;1m\u001b[1;3mNow that I know the square of 4 is 16, I will find out the current weather in Mumbai.\n",
            "\n",
            "Action: GetWeatherTool\n",
            "Action Input: Mumbai\u001b[0m\n",
            "Observation: \u001b[33;1m\u001b[1;3mThe weather in Mumbai is Rainy with 17°C.\u001b[0m\n",
            "Thought:\u001b[32;1m\u001b[1;3mI now know the final answers to both questions.\n",
            "\n",
            "Final Answer: The square of 4 is 16. The weather in Mumbai is Rainy with 17°C.\u001b[0m\n",
            "\n",
            "\u001b[1m> Finished chain.\u001b[0m\n",
            "The square of 4 is 16. The weather in Mumbai is Rainy with 17°C.\n"
          ]
        }
      ]
    },
    {
      "cell_type": "markdown",
      "source": [
        "# Advanced LangChain Agents\n",
        "\n",
        "Advanced agents can:\n",
        "\n",
        "✅ Use multiple tools dynamically\n",
        "\n",
        "✅ Handle complex reasoning\n",
        "\n",
        "✅ Maintain memory of conversations\n",
        "\n",
        "✅ Chain multiple steps intelligently\n",
        "\n",
        "Example :\n",
        "* Self-Ask Agent : `agent=AgentType.SELF_ASK_WITH_SEARCH`\n",
        "* ReAct Agent: Reasoning + Acting :  `agent=AgentType.ZERO_SHOT_REACT_DESCRIPTION`\n",
        "* Structured Chat Agent\n",
        "* Conversational Agent"
      ],
      "metadata": {
        "id": "u3rrmQu3gT7R"
      }
    },
    {
      "cell_type": "markdown",
      "source": [
        "## Creating a Custom Self-Ask Agent  (Uses only one tool at time)"
      ],
      "metadata": {
        "id": "bHN2Kqcxi2u1"
      }
    },
    {
      "cell_type": "code",
      "source": [
        "from langchain.tools import tool, Tool\n",
        "from langchain.agents import initialize_agent, AgentType\n",
        "import yfinance as yf\n",
        "\n",
        "def clarify_stock_query(stock_symbol: str) -> str:\n",
        "    \"\"\"Asks the user to specify a stock symbol if missing.\"\"\"\n",
        "    known_stocks = [\"AAPL\", \"TSLA\", \"BTC\", \"ETH\"]\n",
        "    if stock_symbol.upper() in known_stocks:\n",
        "        return f\"You selected {stock_symbol.upper()}.\"\n",
        "    return \"Please specify a valid stock symbol (e.g., AAPL, BTC, ETH).\"\n",
        "\n",
        "clarify_stock_query_tool = Tool(\n",
        "    name=\"Intermediate Answer\",\n",
        "    func=clarify_stock_query,\n",
        "    description=\"Asks the user to specify a stock symbol if missing.\"\n",
        ")\n",
        "\n",
        "# def get_stock_price(stock_symbol: str) -> str:\n",
        "#     \"\"\"Fetches the latest stock price from Yahoo Finance.\"\"\"\n",
        "#     try:\n",
        "#         stock = yf.Ticker(stock_symbol)\n",
        "#         price = stock.history(period=\"1d\")[\"Close\"].iloc[-1]\n",
        "#         return f\"The latest price of {stock_symbol.upper()} is ${price:.2f}.\"\n",
        "#     except Exception:\n",
        "#         return \"Error retrieving stock price. Please try again.\"\n",
        "\n",
        "# stock_price_tool = Tool(\n",
        "#     name=\"Intermediate Answer\",\n",
        "#     func=get_stock_price,\n",
        "#     description=\"Retrieves the latest stock price for a given stock symbol (e.g., AAPL, TSLA, BTC, ETH).\"\n",
        "# )\n",
        "\n",
        "\n",
        "# Create Self-Ask Agent\n",
        "agent = initialize_agent(\n",
        "    tools=[clarify_stock_query_tool],\n",
        "    llm=llm,\n",
        "    agent=AgentType.SELF_ASK_WITH_SEARCH,\n",
        "    verbose=True\n",
        ")\n",
        "\n",
        "# Run the agent\n",
        "response = agent.run(\" TSLA?\")\n",
        "print(response)\n"
      ],
      "metadata": {
        "colab": {
          "base_uri": "https://localhost:8080/"
        },
        "id": "WchR9-lPhlS1",
        "outputId": "87144031-796c-4646-aec0-fa15e1476c19"
      },
      "execution_count": null,
      "outputs": [
        {
          "output_type": "stream",
          "name": "stdout",
          "text": [
            "\n",
            "\n",
            "\u001b[1m> Entering new AgentExecutor chain...\u001b[0m\n",
            "\u001b[32;1m\u001b[1;3mYes. TSLA typically refers to Tesla, Inc. on stock exchanges, so clarification is needed.\n",
            "\n",
            "Follow up: Are you asking about the stock symbol TSLA?\u001b[0m\n",
            "Intermediate answer: \u001b[36;1m\u001b[1;3mPlease specify a valid stock symbol (e.g., AAPL, BTC, ETH).\u001b[0m\n",
            "\u001b[32;1m\u001b[1;3mYes, TSLA is the stock symbol for Tesla, Inc. on the stock exchange.\n",
            "\n",
            "So the final answer is: Tesla, Inc. is represented by the stock symbol TSLA on the stock exchange.\u001b[0m\n",
            "\n",
            "\u001b[1m> Finished chain.\u001b[0m\n",
            "Tesla, Inc. is represented by the stock symbol TSLA on the stock exchange.\n"
          ]
        }
      ]
    },
    {
      "cell_type": "markdown",
      "source": [
        "## Agent Executor"
      ],
      "metadata": {
        "id": "PCh-w4qCoWOl"
      }
    },
    {
      "cell_type": "code",
      "source": [
        "from langchain_openai import ChatOpenAI\n",
        "from langchain_core.prompts import PromptTemplate\n",
        "from langchain.schema.output_parser import StrOutputParser\n",
        "from langchain import hub\n",
        "from langchain.agents import create_react_agent, AgentExecutor\n",
        "import datetime\n",
        "from langchain.agents import tool\n",
        "\n",
        "\n",
        "@tool\n",
        "def get_system_time(format: str = \"%Y-%m-%d %H:%M:%S\"):\n",
        "    \"\"\" Returns the current date and time in the specified format \"\"\"\n",
        "\n",
        "    current_time = datetime.datetime.now()\n",
        "    formatted_time = current_time.strftime(format)\n",
        "    return formatted_time\n",
        "\n",
        "\n",
        "query = \"What is the current time in London? (You are in India). Just show the current time and not the date\"\n",
        "\n",
        "prompt_template = hub.pull(\"hwchase17/react\")\n",
        "\n",
        "tools = [get_system_time]\n",
        "\n",
        "agent = create_react_agent(llm, tools, prompt_template)\n",
        "\n",
        "agent_executor = AgentExecutor(agent=agent, tools=tools, verbose=True)\n",
        "\n",
        "agent_executor.invoke({\"input\": query})\n",
        "\n"
      ],
      "metadata": {
        "colab": {
          "base_uri": "https://localhost:8080/"
        },
        "id": "EblcBKecgNBs",
        "outputId": "0a7aeb35-4c93-4c2b-9686-f639fce2bca6"
      },
      "execution_count": null,
      "outputs": [
        {
          "output_type": "stream",
          "name": "stderr",
          "text": [
            "/usr/local/lib/python3.11/dist-packages/langsmith/client.py:253: LangSmithMissingAPIKeyWarning: API key must be provided when using hosted LangSmith API\n",
            "  warnings.warn(\n"
          ]
        },
        {
          "output_type": "stream",
          "name": "stdout",
          "text": [
            "\n",
            "\n",
            "\u001b[1m> Entering new AgentExecutor chain...\u001b[0m\n",
            "\u001b[32;1m\u001b[1;3mTo find out the current time in London when I am in India, I need to consider the time difference between the two locations. India is in the Indian Standard Time (IST) zone, which is UTC+5:30, whereas London is in the Greenwich Mean Time (GMT) or British Summer Time (BST) zone, depending on the time of the year. During BST, London is UTC+1, and otherwise, it is UTC+0. Given the difference, I will calculate the current time in London. First, I'll get the current time in India.\n",
            "\n",
            "Action: get_system_time\n",
            "Action Input: '%H:%M'\u001b[0m\u001b[36;1m\u001b[1;3m'09:56'\u001b[0m\u001b[32;1m\u001b[1;3mI have the current time in India, which is 09:56. During BST (from the last Sunday in March to the last Sunday in October), London is 4 hours and 30 minutes behind India. Since today is sometime in October 2023, and BST is still in effect, I'll assume the time difference is 4 hours and 30 minutes. Thus, to convert the time to London time, I need to subtract 4 hours and 30 minutes from the current time in India.\n",
            "\n",
            "09:56 (India) - 04:30 = 05:26 (London during BST)\n",
            "\n",
            "Final Answer: The current time in London is 05:26.\u001b[0m\n",
            "\n",
            "\u001b[1m> Finished chain.\u001b[0m\n"
          ]
        },
        {
          "output_type": "execute_result",
          "data": {
            "text/plain": [
              "{'input': 'What is the current time in London? (You are in India). Just show the current time and not the date',\n",
              " 'output': 'The current time in London is 05:26.'}"
            ]
          },
          "metadata": {},
          "execution_count": 44
        }
      ]
    },
    {
      "cell_type": "code",
      "source": [
        "from langchain_openai import ChatOpenAI\n",
        "from langchain import hub\n",
        "from langchain.agents import create_react_agent, AgentExecutor\n",
        "from langchain.schema.runnable import RunnableParallel\n",
        "import datetime\n",
        "import pytz\n",
        "from langchain.agents import tool\n",
        "\n",
        "# Initialize OpenAI model\n",
        "\n",
        "\n",
        "@tool\n",
        "def get_system_time(timezone: str = \"UTC\", format: str = \"%Y-%m-%d %H:%M:%S\"):\n",
        "    \"\"\"Returns the current date and time in the specified timezone and format.\"\"\"\n",
        "    try:\n",
        "        tz = pytz.timezone(timezone)\n",
        "    except pytz.UnknownTimeZoneError:\n",
        "        return f\"Unknown timezone: {timezone}\"\n",
        "    current_time = datetime.datetime.now(tz)\n",
        "    return current_time.strftime(format)\n",
        "\n",
        "@tool\n",
        "def get_day_of_week(timezone: str = \"UTC\"):\n",
        "    \"\"\"Returns the current day of the week in the specified timezone.\"\"\"\n",
        "    try:\n",
        "        tz = pytz.timezone(timezone)\n",
        "    except pytz.UnknownTimeZoneError:\n",
        "        return f\"Unknown timezone: {timezone}\"\n",
        "    current_time = datetime.datetime.now(tz)\n",
        "    return current_time.strftime(\"%A\")\n",
        "\n",
        "# Fetch the ReAct prompt template from LangChain Hub\n",
        "prompt_template = hub.pull(\"hwchase17/react\")\n",
        "\n",
        "# Define tools\n",
        "tools = [get_system_time, get_day_of_week]\n",
        "\n",
        "# Create agents\n",
        "agent_1 = create_react_agent(llm, [get_system_time], prompt_template)\n",
        "agent_2 = create_react_agent(llm, [get_day_of_week], prompt_template)\n",
        "\n",
        "# Create agent executors\n",
        "agent_executor_1 = AgentExecutor(agent=agent_1, tools=[get_system_time], verbose=True)\n",
        "agent_executor_2 = AgentExecutor(agent=agent_2, tools=[get_day_of_week], verbose=True)\n",
        "\n",
        "# Execute both agents in parallel\n",
        "parallel_agents = RunnableParallel(\n",
        "    time_agent=lambda x: agent_executor_1.invoke({\"input\": \"Get the current time in Europe/London.\"}),\n",
        "    day_agent=lambda x: agent_executor_2.invoke({\"input\": \"Get the current day in Europe/London.\"})\n",
        ")\n",
        "\n",
        "# Invoke both agents in parallel\n",
        "parallel_agents.invoke({})\n",
        "\n"
      ],
      "metadata": {
        "colab": {
          "base_uri": "https://localhost:8080/"
        },
        "id": "XvmR88Kc1hHv",
        "outputId": "38af8aca-9d25-4994-b2e7-c5353c5cc9e0"
      },
      "execution_count": null,
      "outputs": [
        {
          "output_type": "stream",
          "name": "stderr",
          "text": [
            "/usr/local/lib/python3.11/dist-packages/langsmith/client.py:253: LangSmithMissingAPIKeyWarning: API key must be provided when using hosted LangSmith API\n",
            "  warnings.warn(\n"
          ]
        },
        {
          "output_type": "stream",
          "name": "stdout",
          "text": [
            "\n",
            "\n",
            "\u001b[1m> Entering new AgentExecutor chain...\u001b[0m\n",
            "\n",
            "\u001b[1m> Entering new AgentExecutor chain...\u001b[0m\n",
            "\n",
            "\u001b[32;1m\u001b[1;3mI need to find out the current day in the Europe/London timezone.\n",
            "Action: get_day_of_week\n",
            "Action Input: \"Europe/London\"\u001b[0m\u001b[36;1m\u001b[1;3mFriday\u001b[0m\u001b[32;1m\u001b[1;3mI now know the final answer.\n",
            "Final Answer: The current day in Europe/London is Friday.\u001b[0m\n",
            "\n",
            "\u001b[1m> Finished chain.\u001b[0m\n",
            "\u001b[32;1m\u001b[1;3mTo find the current time in Europe/London, I need to use the `get_system_time` tool with the appropriate timezone setting.\n",
            "\n",
            "Action: get_system_time\n",
            "Action Input: \"Europe/London\"\u001b[0m\u001b[36;1m\u001b[1;3m2025-02-07 09:57:39\u001b[0m\u001b[32;1m\u001b[1;3mI now know the final answer.\n",
            "\n",
            "Final Answer: The current time in Europe/London is 2025-02-07 09:57:39.\u001b[0m\n",
            "\n",
            "\u001b[1m> Finished chain.\u001b[0m\n"
          ]
        },
        {
          "output_type": "execute_result",
          "data": {
            "text/plain": [
              "{'time_agent': {'input': 'Get the current time in Europe/London.',\n",
              "  'output': 'The current time in Europe/London is 2025-02-07 09:57:39.'},\n",
              " 'day_agent': {'input': 'Get the current day in Europe/London.',\n",
              "  'output': 'The current day in Europe/London is Friday.'}}"
            ]
          },
          "metadata": {},
          "execution_count": 46
        }
      ]
    },
    {
      "cell_type": "code",
      "source": [
        "prompt_template = hub.pull(\"hwchase17/react\")"
      ],
      "metadata": {
        "colab": {
          "base_uri": "https://localhost:8080/"
        },
        "id": "OiSMIU2g4j-4",
        "outputId": "87310a4a-fcf0-4fec-f40c-ad13d6f0fdd8"
      },
      "execution_count": null,
      "outputs": [
        {
          "output_type": "stream",
          "name": "stderr",
          "text": [
            "/usr/local/lib/python3.11/dist-packages/langsmith/client.py:253: LangSmithMissingAPIKeyWarning: API key must be provided when using hosted LangSmith API\n",
            "  warnings.warn(\n"
          ]
        }
      ]
    },
    {
      "cell_type": "code",
      "source": [
        "prompt_template"
      ],
      "metadata": {
        "id": "Yj12iP3D41Hf",
        "outputId": "294d57de-a288-4f33-ce31-82a2f7294a14",
        "colab": {
          "base_uri": "https://localhost:8080/"
        }
      },
      "execution_count": null,
      "outputs": [
        {
          "output_type": "execute_result",
          "data": {
            "text/plain": [
              "PromptTemplate(input_variables=['agent_scratchpad', 'input', 'tool_names', 'tools'], input_types={}, partial_variables={}, metadata={'lc_hub_owner': 'hwchase17', 'lc_hub_repo': 'react', 'lc_hub_commit_hash': 'd15fe3c426f1c4b3f37c9198853e4a86e20c425ca7f4752ec0c9b0e97ca7ea4d'}, template='Answer the following questions as best you can. You have access to the following tools:\\n\\n{tools}\\n\\nUse the following format:\\n\\nQuestion: the input question you must answer\\nThought: you should always think about what to do\\nAction: the action to take, should be one of [{tool_names}]\\nAction Input: the input to the action\\nObservation: the result of the action\\n... (this Thought/Action/Action Input/Observation can repeat N times)\\nThought: I now know the final answer\\nFinal Answer: the final answer to the original input question\\n\\nBegin!\\n\\nQuestion: {input}\\nThought:{agent_scratchpad}')"
            ]
          },
          "metadata": {},
          "execution_count": 50
        }
      ]
    }
  ]
}